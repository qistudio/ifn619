{
 "cells": [
  {
   "cell_type": "markdown",
   "id": "6075ee20-3f59-4828-8455-a739ef016bdc",
   "metadata": {
    "cell_name": "header_cell"
   },
   "source": [
    "<div style=\"background:#E9FFF6; color:#440404; padding:8px; border-radius: 4px; text-align: center; font-weight: 500;\">IFN619 - Data Analytics for Strategic Decision Makers</div>"
   ]
  },
  {
   "attachments": {},
   "cell_type": "markdown",
   "id": "e156461d-7f52-4da6-a33f-bc4e3f77279b",
   "metadata": {
    "cell_name": "title_cell"
   },
   "source": [
    "# IFN619 :: B1-DataStructures - tutorial exercises"
   ]
  },
  {
   "cell_type": "code",
   "execution_count": null,
   "id": "3452540b-9a86-4d7a-8202-6a4e775fc2f8",
   "metadata": {},
   "outputs": [],
   "source": [
    "# import libraries\n",
    "import pandas as ???\n",
    "import numpy as ???\n",
    "import json\n",
    "import requests"
   ]
  },
  {
   "cell_type": "markdown",
   "id": "a86392d3-9b44-4af6-9452-5c425f17f4d9",
   "metadata": {},
   "source": [
    "## Task 1: Brisbane Ferry Terminals\n",
    "Purpose: save a long string as a `csv` file and read the `csv` file as a `pandas` `DataFrame`\n",
    "\n",
    "Data are modified from [Ferry Terminal locations](https://data.brisbane.qld.gov.au/explore/dataset/ferry-terminals/information/)\n",
    "\n",
    "\n",
    "**Step 1**: Save the `long_str` below into a `csv` file named `brisbane_ferry_terminals.csv` under the `data/` folder.\n",
    "\n",
    ">Hint: to save a file instead of read a file, you can change the argument of `'r'` to `'w'` in the `open()` function. \n",
    "\n",
    ">`'r'` = 'read', `'w'` = 'write'"
   ]
  },
  {
   "cell_type": "code",
   "execution_count": null,
   "id": "da4dd3ea-694d-4a16-96e4-d7b78369ba25",
   "metadata": {},
   "outputs": [],
   "source": [
    "# Note: use triple quotes like ''' or \"\"\" to create a multi-line string in Python\n",
    "long_str = '''\n",
    "DESCRIPTION,STREETNAME,ADJ_PROPERTY_ADDRESS,SUBURB,LATITUDE,LATITUDE,LONGITUDE,STATUS,SERVICE_TYPE,PARKING,LIFT_ACCESS,ACCESSIBLE_PARKING,ACCESSIBLE_TOILET\n",
    "UQ St Lucia ferry terminal,Sir William Macgregor Dr,342 CARMODY RD,ST LUCIA,\"501,931.56\",-27.497,153.02,ACTIVE,CityCat,Yes - on-street,No,No,Toilet available on CityCat ferries\n",
    "West End ferry terminal,Hoogley St,55 HOOGLEY ST,WEST END,\"500,318.37\",-27.49,153.003,ACTIVE,CityCat,Yes - on-street,No,No,Toilet available on CityCat ferries\n",
    "Guyatt Park ferry terminal,Macquarie St,46 HIRON ST,ST LUCIA,\"500,216.72\",-27.492,153.002,ACTIVE,CityCat,Yes - on-street,No,Yes,Toilet available on CityCat ferries\n",
    "Regatta ferry terminal,Coronation Dr,566 CORONATION DR,TOOWONG,\"499,692.57\",-27.483,152.997,INACTIVE,CityCat,No,No,No,Toilet available on CityCat ferries\n",
    "Milton ferry terminal,Coronation Dr,299 CORONATION DR,MILTON,\"500,543.38\",-27.474,153.006,ACTIVE,CityCat,No,No,No,Toilet available on CityCat ferries\n",
    "North Quay ferry terminal,Queens Wharf Rd,15 QUEENS WHARF RD,BRISBANE CITY,\"502,226.49\",-27.473,153.023,INACTIVE,\"CityCat, CityHopper\",No,Yes,No,Toilet available on CityCat ferries\n",
    "QUT Gardens Point ferry terminal,Gardens Point Rd,59 GARDENS POINT RD,BRISBANE CITY,\"502,591.80\",-27.478,153.026,ACTIVE,CityCat,Yes - off-street,No,No,Toilet available on CityCat ferries\n",
    "Maritime Museum ferry terminal,Lower River Tce,77 LOWER RIVER TCE,KANGAROO POINT,\"502,851.34\",-27.482,153.029,ACTIVE,CityHopper,Yes - on-street,No,Yes,No\n",
    "Riverside ferry terminal,Eagle St,32 MACROSSAN ST,BRISBANE CITY,\"503,088.35\",-27.467,153.031,ACTIVE,\"CityCat, CityHopper, Cross River Ferry\",No,No,No,Toilet available on CityCat ferries\n",
    "Holman Street ferry terminal,Holman St,126 HOLMAN ST,KANGAROO POINT,\"503,310.01\",-27.466,153.034,INACTIVE,\"CityHopper, Cross River Ferry\",Yes - on-street,No,Yes,No - Nearby in park\n",
    "Howard Smith Wharves ferry terminal,Bowen Tce,5 BOUNDARY ST,FORTITUDE VALLEY,\"503,711.33\",-27.463,153.038,ACTIVE,CityHopper,Yes - off-street,Yes,No,No\n",
    "Dockside ferry terminal,Ferry St,44 FERRY ST,KANGAROO POINT,\"503,872.14\",-27.472,153.039,ACTIVE,CityHopper,Yes,No,No,No\n",
    "Sydney Street ferry terminal,Sydney St,112 OXLADE DR,NEW FARM,\"504,167.97\",-27.475,153.042,ACTIVE,\"CityCat, CityHopper\",Yes - on-street,No,No,Toilet available on CityCat ferries\n",
    "Mowbray Park ferry terminal,Park Av,31 PARK AVE,EAST BRISBANE,\"504,285.84\",-27.477,153.043,ACTIVE,CityCat,Yes - off-street,No,Yes,Toilet available on CityCat ferries\n",
    "New Farm Park ferry terminal,Brunswick St,1042 BRUNSWICK ST,NEW FARM,\"505,202.80\",-27.472,153.053,ACTIVE,CityCat,Yes - off-street,No,Yes,Toilet available on CityCat ferries\n",
    "Hawthorne ferry terminal,Gordon St,14 GORDON ST,HAWTHORNE,\"505,249.93\",-27.461,153.053,ACTIVE,CityCat,Yes - on-street,No,Yes,Toilet available on CityCat ferries\n",
    "Bulimba ferry terminal,Oxford St,2 OXFORD ST,BULIMBA,\"505,152.79\",-27.451,153.052,ACTIVE,\"CityCat, Cross River Ferry\",Yes - on-street,No,Yes,Toilet available on CityCat ferries\n",
    "Teneriffe ferry terminal,Commercial Rd,17 SKYRING TCE,TENERIFFE,\"504,885.74\",-27.452,153.049,ACTIVE,\"CityCat, Cross River Ferry\",Yes - on-street,No,No,Toilet available on CityCat ferries\n",
    "Bretts Wharf ferry terminal,Kingsford Smith Dr,449 KINGSFORD SMITH DR,HAMILTON,\"506,334.05\",-27.44,153.064,ACTIVE,CityCat,Yes - on-street,No,Yes,Toilet available on CityCat ferries\n",
    "Apollo Road ferry terminal,Apollo St,3 BYRON ST,BULIMBA,\"506,305.13\",-27.443,153.064,ACTIVE,CityCat,Yes - on-street,No,No,Toilet available on CityCat ferries\n",
    "Northshore Hamilton ferry terminal,Macarthur Avenue,305 MACARTHUR AVE,HAMILTON,\"508,280.43\",-27.445,153.084,ACTIVE,CityCat,Yes - on-street,No,No,Toilet available on CityCat ferries\n",
    "South Bank ferry terminal,Clem Jones Promanade,153 STANLEY ST,SOUTH BRISBANE,\"502,206.67\",-27.476,153.022,ACTIVE,\"CityCat, CityHopper\",No,No,No,Toilet available on CityCat ferries\n",
    "'''\n",
    "# View the string\n",
    "long_str"
   ]
  },
  {
   "cell_type": "code",
   "execution_count": null,
   "id": "fac812f2-9786-46bc-80c8-421c1a2e6fe4",
   "metadata": {},
   "outputs": [],
   "source": [
    "# write the string to a csv file named 'brisbane_ferry_terminals.csv' under 'data/'\n",
    "with open(???, 'w') as file:\n",
    "    ???"
   ]
  },
  {
   "cell_type": "markdown",
   "id": "631f44bd-cb13-4914-81cd-2607399ffa0b",
   "metadata": {},
   "source": [
    "**Step 2**: Read the `csv` file you just saved as a DataFrame. "
   ]
  },
  {
   "cell_type": "code",
   "execution_count": null,
   "id": "ea16592d-cf2b-4768-bc66-63a8c6104422",
   "metadata": {},
   "outputs": [],
   "source": [
    "df = ???\n",
    "df"
   ]
  },
  {
   "cell_type": "markdown",
   "id": "fd58111d-3318-4e7a-bdf4-3625db6fe481",
   "metadata": {},
   "source": [
    "**Question 1**: \n",
    "\n",
    "1. How many ferry terminals have parking facilities? \n",
    "2. Provide a list of ferry terminals that have parking facilities."
   ]
  },
  {
   "cell_type": "code",
   "execution_count": null,
   "id": "a005f7e3-c6a0-4fa1-8090-41a8301da0aa",
   "metadata": {},
   "outputs": [],
   "source": [
    "# number of terminals with parking facilities\n",
    "???"
   ]
  },
  {
   "cell_type": "code",
   "execution_count": null,
   "id": "74f2fdb4-25bc-4669-9889-b36140b14d51",
   "metadata": {},
   "outputs": [],
   "source": [
    "# Dataframe include ferry terminals with parking facilities\n",
    "\n",
    "df_parking = ???\n",
    "\n",
    "# Save the names of ferry terminals as a list\n",
    "parking_list = df_parking[???].???\n",
    "# Display the list \n",
    "parking_list"
   ]
  },
  {
   "cell_type": "markdown",
   "id": "d44ba57b-8dc9-4d94-b20a-27d59ffc775a",
   "metadata": {},
   "source": [
    "**Question 2**: Which **CityCat** terminals are currently **INACTIVE**?"
   ]
  },
  {
   "cell_type": "code",
   "execution_count": null,
   "id": "c7fceb2e-7045-4d69-a63e-8536a1374965",
   "metadata": {},
   "outputs": [],
   "source": [
    "df[(???) & (???)]"
   ]
  },
  {
   "attachments": {},
   "cell_type": "markdown",
   "id": "fb57e012-6c8a-4e07-80d5-b57a8b6b395e",
   "metadata": {},
   "source": [
    "---\n",
    "## Task 2 (open-ended)\n",
    "What other questions you want to find out about the Brisbane Ferry services? Use the Data Analytics Cycle approach on this dataset.\n",
    "\n",
    "### Question\n",
    "[write your question here]"
   ]
  },
  {
   "cell_type": "markdown",
   "id": "2b034759-97d1-4cd6-8e91-b520954df496",
   "metadata": {},
   "source": [
    "### Analysis"
   ]
  },
  {
   "cell_type": "code",
   "execution_count": null,
   "id": "182b9c6b-a640-4a8c-90c6-4edba3f6d4ce",
   "metadata": {},
   "outputs": [],
   "source": [
    "# Your code here"
   ]
  },
  {
   "cell_type": "markdown",
   "id": "17aa8e8e-47c0-4fdc-bc3e-c4b1f80ada40",
   "metadata": {},
   "source": [
    "### Visualisation"
   ]
  },
  {
   "cell_type": "code",
   "execution_count": null,
   "id": "c492cbac-4503-4a0f-a87c-c7de5a4f27fb",
   "metadata": {},
   "outputs": [],
   "source": [
    "# Your code here"
   ]
  },
  {
   "cell_type": "markdown",
   "id": "604dd279-e554-49bd-b4bb-8c0380ff8c39",
   "metadata": {},
   "source": [
    "### Insights\n",
    "[write your insights here]"
   ]
  },
  {
   "attachments": {},
   "cell_type": "markdown",
   "id": "79a5f00f-d7e7-4486-b066-cf8bab6d644d",
   "metadata": {},
   "source": [
    "---\n",
    "## Task 3: How many different species of kingfishers in Queensland?\n",
    "\n",
    "Purpose: read a `json` file from a website; save a `json` file; navigate through a `json` file. "
   ]
  },
  {
   "cell_type": "markdown",
   "id": "d4c92871-0e29-489c-beeb-b73c6c154f62",
   "metadata": {},
   "source": [
    "The url below is a subset of the Queensland wildlife database with information of family of \"birds\" in Queensland. \n",
    "\n",
    "Data source: [Qld wildlife data - get kingdom names](https://www.data.qld.gov.au/dataset/qld-wildlife-data-api/resource/c318621a-6adf-4e2c-aa35-c4e23b660ac7). "
   ]
  },
  {
   "cell_type": "code",
   "execution_count": null,
   "id": "8c754f98-5c55-42ef-888b-508c99344d33",
   "metadata": {
    "scrolled": true,
    "tags": []
   },
   "outputs": [],
   "source": [
    "bird_url = 'http://apps.des.qld.gov.au/species/?op=getfamilynames&kingdom=animals&class=aves'\n",
    "\n",
    "# Request the content from the web server\n",
    "response = ???\n",
    "\n",
    "# Preview the content\n",
    "response.content"
   ]
  },
  {
   "cell_type": "code",
   "execution_count": null,
   "id": "1b567c1b-9b3d-45d5-b029-4b1fd3848f6d",
   "metadata": {
    "scrolled": true,
    "tags": []
   },
   "outputs": [],
   "source": [
    "# Get the data as json from the response\n",
    "bird_family_json = response.???\n",
    "# Preview the data\n",
    "bird_family_json"
   ]
  },
  {
   "cell_type": "markdown",
   "id": "940c8b61-1841-4aa9-8e4b-cc1ddd4ade2c",
   "metadata": {},
   "source": [
    "You will notice that it seems all the contents are under one key named `'Family'`, and the value is stored as a list.\n",
    "\n",
    "**Question 1**: display the **6th** item from the list, and save the information in a new `json` file named `qld_kingfishers_family.json` under the `data/` folder. "
   ]
  },
  {
   "cell_type": "code",
   "execution_count": null,
   "id": "ca32d1f6-6dc6-4cff-b933-dae556375d63",
   "metadata": {},
   "outputs": [],
   "source": [
    "# Display the 6th item\n",
    "qld_kf_family = ???\n",
    "qld_kf_family"
   ]
  },
  {
   "cell_type": "code",
   "execution_count": null,
   "id": "5e6646f2-db4b-4c13-9029-b8ec72c4b37e",
   "metadata": {},
   "outputs": [],
   "source": [
    "# Save the above information to a json file\n",
    "\n",
    "# Dump the dict into a json string\n",
    "qld_kf_json = ???\n",
    "# Write the json string to a file \n",
    "file_name = 'json_kingfishers_family.json'\n",
    "with open(???,???) as fp:\n",
    "    ???"
   ]
  },
  {
   "cell_type": "markdown",
   "id": "e6dfeb52-0987-4a70-a8f6-2f1b77a4eeaa",
   "metadata": {},
   "source": [
    "You may noticed that there is a `SpeciesUrl` in the above json file. This url includes all the species of the kingfisher family. \n",
    "Read the content from the `SpeciesUrl` and answer the following questions: \n",
    "1. How many species of kingfishers in Queensland?\n",
    "2. What are the species names of kingfishers in Queensland?"
   ]
  },
  {
   "cell_type": "code",
   "execution_count": null,
   "id": "6356ebdd-ebc4-41fc-a4f8-beffff4400c2",
   "metadata": {},
   "outputs": [],
   "source": [
    "# Extract the url\n",
    "kingfishers_url = ???\n",
    "kingfishers_url"
   ]
  },
  {
   "cell_type": "code",
   "execution_count": null,
   "id": "d815889c-a1f6-4b52-9c5f-69250ac2d260",
   "metadata": {
    "scrolled": true,
    "tags": []
   },
   "outputs": [],
   "source": [
    "# Extract the information from the url above, save the data as json\n",
    "response_kf = ???\n",
    "kf_json = response_kf.???\n",
    "kf_json"
   ]
  },
  {
   "cell_type": "markdown",
   "id": "4a54b9c1-39fe-4608-a589-bcfb35651802",
   "metadata": {},
   "source": [
    "**Question 1**: How many species of kingfishers in Queensland?\n",
    ">Hint: You can use `len([list])` to calculate how many items in a list. "
   ]
  },
  {
   "cell_type": "code",
   "execution_count": null,
   "id": "aff9fbba-a799-493e-bd6a-dee364e0433f",
   "metadata": {},
   "outputs": [],
   "source": [
    "# How many species of kingfishers in Queensland?\n"
   ]
  },
  {
   "cell_type": "markdown",
   "id": "b04fad77-3b2d-4687-87b8-d076362b9780",
   "metadata": {},
   "source": [
    "**Question 2**: What are the species names of kingfishers in Queensland?\n",
    ">Hint: You need to use a for loop to extract the names"
   ]
  },
  {
   "cell_type": "code",
   "execution_count": null,
   "id": "dd3d81f1-171b-4de4-85fd-193b02653053",
   "metadata": {},
   "outputs": [],
   "source": [
    "# What are the species names of kingfishers in Queensland?\n",
    "for item in ???:\n",
    "    print(???)"
   ]
  },
  {
   "attachments": {},
   "cell_type": "markdown",
   "id": "c96e99bf-e16c-450d-90ef-b71ddbbba4f5",
   "metadata": {},
   "source": [
    "---\n",
    "## Task 4 (open-ended)\n",
    "Go back to the bird family json file and find another species that you are interested, and look for more information from the chosen species. \n",
    "You can also check other kingdoms, classes or families from the [Queensland wildlife data API](https://www.data.qld.gov.au/dataset/qld-wildlife-data-api/resource/c318621a-6adf-4e2c-aa35-c4e23b660ac7). "
   ]
  },
  {
   "cell_type": "markdown",
   "id": "e67e31e7",
   "metadata": {},
   "source": []
  },
  {
   "attachments": {},
   "cell_type": "markdown",
   "id": "750e8341-2782-483b-988d-282e37c46d8a",
   "metadata": {},
   "source": [
    "---\n",
    "## Task 5: What are the popular tv shows on reddit?"
   ]
  },
  {
   "cell_type": "code",
   "execution_count": null,
   "id": "8fdb3912-3504-4ad0-a431-7a98a84d3763",
   "metadata": {},
   "outputs": [],
   "source": [
    "# Define strings for our endpoint URL and header parameters\n",
    "\n",
    "subreddit = \"television\"\n",
    "url = f\"https://www.reddit.com/r/{subreddit}/hot.json\"\n",
    "headers = {'User-Agent': 'Mozilla/5.0 (Windows NT 10.0; Win64; x64) AppleWebKit/537.36 (KHTML, like Gecko) Chrome/58.0.3029.110 Safari/537.3'}\n",
    "\n",
    "# Question: what data type is \"headers\"?"
   ]
  },
  {
   "cell_type": "code",
   "execution_count": null,
   "id": "7e2857f8-0669-4e80-a7ed-e90e4bd2ad27",
   "metadata": {},
   "outputs": [],
   "source": [
    "# Send GET request\n",
    "response = requests.get(url, headers=???)"
   ]
  },
  {
   "cell_type": "code",
   "execution_count": null,
   "id": "49a8154a-8937-4d83-a37c-f1a03f952b98",
   "metadata": {},
   "outputs": [],
   "source": [
    "## Inspect the data structure"
   ]
  },
  {
   "cell_type": "code",
   "execution_count": null,
   "id": "c72e70be-abf4-4614-bfc2-de67367ab6cc",
   "metadata": {},
   "outputs": [],
   "source": [
    "# Inspect what data was returned. What type of data is this? Is it easy to see what the structure is?\n",
    "response"
   ]
  },
  {
   "attachments": {},
   "cell_type": "markdown",
   "id": "88538139-9b21-4338-916e-b38d571f0f63",
   "metadata": {},
   "source": [
    "### Using a tool to look at the structure"
   ]
  },
  {
   "cell_type": "markdown",
   "id": "358238e6-067e-431a-bf36-5ec28fd6604c",
   "metadata": {},
   "source": [
    "Use the json viewer tool at http://jsonviewer.stack.hu/ to get a view of the structure of the returned data\n",
    "\n",
    "You will need to copy and paste the entire response"
   ]
  },
  {
   "attachments": {},
   "cell_type": "markdown",
   "id": "de3fdc1e",
   "metadata": {},
   "source": [
    "### Save the response and look at structure in Jupyter\n",
    "\n",
    "1. Use the examples in the studio session to show you how to save the json data as a json file\n",
    "2. Open the json file in the Jupyter JSON editor - how does the structure look compared with the jsonviewer above"
   ]
  },
  {
   "cell_type": "code",
   "execution_count": null,
   "id": "f9956f4b",
   "metadata": {},
   "outputs": [],
   "source": [
    "# Get the json from the response\n",
    "\n",
    "# Dump the json as a string\n",
    "\n",
    "# Save the string to a file"
   ]
  },
  {
   "attachments": {},
   "cell_type": "markdown",
   "id": "87e78bd3-a957-44e1-91bf-1ad1bde87797",
   "metadata": {},
   "source": [
    "### Getting your required data out of the response"
   ]
  },
  {
   "cell_type": "code",
   "execution_count": null,
   "id": "54befc71-b989-4e3f-8980-509645be7a69",
   "metadata": {},
   "outputs": [],
   "source": [
    "# Extract post data from response\n",
    "post_data = response.json()['data'][???] "
   ]
  },
  {
   "attachments": {},
   "cell_type": "markdown",
   "id": "b1960d1f-e5cc-47d5-8aa2-c9fddc88d553",
   "metadata": {},
   "source": [
    "### Loop through the data"
   ]
  },
  {
   "cell_type": "code",
   "execution_count": null,
   "id": "32a32c1a-7ce6-4560-b1e5-d637639d8d1b",
   "metadata": {},
   "outputs": [],
   "source": [
    "# Print post titles\n",
    "for post in post_data:\n",
    "    print(post[???][???])"
   ]
  },
  {
   "attachments": {},
   "cell_type": "markdown",
   "id": "4000faf6-f684-4962-b603-e2d66676acf0",
   "metadata": {},
   "source": [
    "### Load what we have extracted into a dataframe"
   ]
  },
  {
   "cell_type": "code",
   "execution_count": null,
   "id": "19025917-2c2a-45e2-819e-da047d5135bb",
   "metadata": {},
   "outputs": [],
   "source": [
    "import pandas as pd\n",
    "\n",
    "# Turn the for loop we used above into a \"list comprehension\" to create a list we can load into a dataframe\n",
    "\n",
    "df = pd.DataFrame(??? for post in post_data)"
   ]
  },
  {
   "cell_type": "code",
   "execution_count": null,
   "id": "aab6d467-4781-4c9b-a748-aca4e8e5b87a",
   "metadata": {},
   "outputs": [],
   "source": [
    "# Take a look at our dataframe\n",
    "df"
   ]
  },
  {
   "attachments": {},
   "cell_type": "markdown",
   "id": "15c569a9-55ba-45f0-81b4-8574c389f4f2",
   "metadata": {},
   "source": [
    "### Do something with the data"
   ]
  },
  {
   "cell_type": "code",
   "execution_count": null,
   "id": "fa3e8169-14c6-4dac-b813-cb4f236a3a32",
   "metadata": {},
   "outputs": [],
   "source": [
    "# Print out only those rows that contain a certain string such as \"Squid Game\"\n",
    "\n",
    "???"
   ]
  }
 ],
 "metadata": {
  "creation_period": "",
  "kernelspec": {
   "display_name": "Python 3 (ipykernel)",
   "language": "python",
   "name": "python3"
  },
  "language_info": {
   "codemirror_mode": {
    "name": "ipython",
    "version": 3
   },
   "file_extension": ".py",
   "mimetype": "text/x-python",
   "name": "python",
   "nbconvert_exporter": "python",
   "pygments_lexer": "ipython3",
   "version": "3.11.11"
  },
  "nb_name": "template",
  "qut": {
   "creation_period": "2023_sem1",
   "nb_name": "B1-DataStructures-tutorial",
   "unit_code": "IFN619"
  },
  "unit_code": ""
 },
 "nbformat": 4,
 "nbformat_minor": 5
}
