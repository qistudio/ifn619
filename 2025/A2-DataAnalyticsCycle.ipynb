{
 "cells": [
  {
   "cell_type": "markdown",
   "id": "5b918dae-cf79-4472-8a23-383ca9a71a13",
   "metadata": {
    "cell_name": "header_cell"
   },
   "source": [
    "<div style=\"background:#EEEEdd; color:#552255; padding:8px; border-radius: 4px; text-align: center; font-weight: 500;\">IFN619 - Data Analytics for Strategic Decision Makers</div>"
   ]
  },
  {
   "cell_type": "markdown",
   "id": "0888e26c-e3cd-446a-be05-1d5924897e2a",
   "metadata": {
    "cell_name": "title_cell"
   },
   "source": [
    "# IFN619 :: A2-DataAnalyticsCycle"
   ]
  },
  {
   "cell_type": "markdown",
   "id": "7c224077",
   "metadata": {},
   "source": [
    "### QDAVI\n",
    "\n",
    "In our approach to data analytics, we will follow a process that requires that we address 5 questions:\n",
    "\n",
    "1. Which are the right questions?\n",
    "2. Which are the right data?\n",
    "3. Which are the right analyses?\n",
    "4. Which are the right visualisations?\n",
    "5. Which are the right insights?\n",
    "\n",
    "For this unit, we are concerned with more than just data analytics, we are interested in what is *appropriate, efficous, ethical ...* what is ***right!***\n",
    "\n",
    "You can easily remember the data analytics cycle by the acronym **QDAVI**:\n",
    "\n",
    "1. **Q**uestion\n",
    "2. **D**ata\n",
    "3. **A**nalysis\n",
    "4. **V**isualisation\n",
    "5. **I**nsight\n",
    "\n",
    "<img src=\"graphics/QDAVI_cycle_sm.png\" width=\"50%\" />\n"
   ]
  },
  {
   "cell_type": "markdown",
   "id": "3bef02cc",
   "metadata": {},
   "source": [
    "---\n",
    "\n",
    "## QDAVI Example\n",
    "\n",
    "### Question\n",
    "\n",
    "In this part of the cycle we will:\n",
    "1. consider the context, and the main concern of stakeholders \n",
    "2. identify a specific question (or questions) to address the context and stakeholder concern/s, and \n",
    "3. plan how we might connect the question with available data for analysis\n",
    "\n",
    "\n",
    "#### Context: \n",
    "\n",
    "We have many students in IFN619 coming from different backgrounds and choosing to study for different reasons. A better understanding of the cohort may be helpful for the teaching team, allowing them to adapt the learning experiences to groups with different needs.\n",
    "\n",
    "> **QUESTION** What different groups of students are studying IFN619, and how might information about the cohort help the teaching team provide meaningful learning experiences?\n",
    "\n",
    "#### Plan: \n",
    "\n",
    "To answer this question, we might consider the kinds of groups that might be possible within available data. Some thoughts are:\n",
    "- courses - may provide information on whether students have some IT knowledge\n",
    "- mode - may indicate availability and/or preference for face to face learning."
   ]
  },
  {
   "cell_type": "markdown",
   "id": "df89edcc",
   "metadata": {},
   "source": [
    "### Data\n",
    "\n",
    "In this part of the cycle, we will:\n",
    "1. Identify appropriate data to address the question\n",
    "2. Read the data into the analysis environment (Jupyter)\n",
    "3. Undertake any cleaning or formatting needed for analysis"
   ]
  },
  {
   "cell_type": "markdown",
   "id": "ffc5504f",
   "metadata": {},
   "source": [
    "#### Required libraries\n",
    "\n",
    "For any data analysis, we need to use existing software that has been loaded into the Jupyter environment in the form of 'libraries', 'packages', or 'modules'. To make these libraries available to your notebook, you need to `import` them."
   ]
  },
  {
   "cell_type": "code",
   "execution_count": null,
   "id": "3a473948",
   "metadata": {},
   "outputs": [],
   "source": [
    "import ??? as ??? # Dataframes"
   ]
  },
  {
   "cell_type": "markdown",
   "id": "f7eaab58",
   "metadata": {},
   "source": [
    "#### Read in the data\n",
    "\n",
    "1. Take a look at the data first to identify its structure\n",
    "2. Use appropriate code to read the data in to Jupyter\n",
    "3. Display the data to check it was read correctly"
   ]
  },
  {
   "cell_type": "code",
   "execution_count": null,
   "id": "11fb44c6",
   "metadata": {},
   "outputs": [],
   "source": [
    "# Read the CSV into a dataframe\n",
    "file_name = ???\n",
    "class_df = pd.read_csv(f\"data/{file_name}\",index_col=???)\n",
    "class_df.shape"
   ]
  },
  {
   "cell_type": "code",
   "execution_count": null,
   "id": "f4142961",
   "metadata": {},
   "outputs": [],
   "source": [
    "# We can take a look at the dataframe by adding the variable name as the last line of a cell\n",
    "???"
   ]
  },
  {
   "cell_type": "markdown",
   "id": "5d7f95d8",
   "metadata": {},
   "source": [
    "We can view more rows of the dataframe by setting the `display.max_rows` option..."
   ]
  },
  {
   "cell_type": "code",
   "execution_count": null,
   "id": "5ba88334",
   "metadata": {},
   "outputs": [],
   "source": [
    "pd.set_option('display.max_rows', None)"
   ]
  },
  {
   "cell_type": "code",
   "execution_count": null,
   "id": "6f7c2c11",
   "metadata": {
    "scrolled": true,
    "tags": []
   },
   "outputs": [],
   "source": [
    "class_df"
   ]
  },
  {
   "cell_type": "markdown",
   "id": "d411c29b",
   "metadata": {},
   "source": [
    "### Analysis\n",
    "\n",
    "In this part of the cycle, we will:\n",
    "1. Explore the data to identify patterns that may be helpful\n",
    "2. Select appropriate techniques to address the question\n",
    "3. Analyse the data using selected techniques\n",
    "4. Check suitability of results and re-analyse as necessary\n",
    "\n",
    "As part of this process, we will take into account: \n",
    "- the composition of the data and how techniques might yield useful results\n",
    "- starting with simple approaches and working up to more complex as necessary (and/or feasible)\n",
    "- the appropriateness of the results - is the analysis yielding useful information that can help answer the question"
   ]
  },
  {
   "cell_type": "markdown",
   "id": "89045d90-fa82-4f92-aead-a2bd78e951a6",
   "metadata": {},
   "source": [
    "#### Explore categories\n",
    "\n",
    "One of the obvious features of the data is that there are categories for each of the columns."
   ]
  },
  {
   "cell_type": "code",
   "execution_count": null,
   "id": "b6eb11a0",
   "metadata": {},
   "outputs": [],
   "source": [
    "# Explore categories by putting the column name in the groupby function\n",
    "class_df.groupby(???).size()"
   ]
  },
  {
   "cell_type": "code",
   "execution_count": null,
   "id": "ce910eed-b4f9-4bc9-ac4d-f743865a282e",
   "metadata": {},
   "outputs": [],
   "source": [
    "course_totals_df = class_df.groupby(???).size().reset_index(name=???)\n",
    "???"
   ]
  },
  {
   "cell_type": "code",
   "execution_count": null,
   "id": "57aab146-6744-4308-8f08-8964951e434e",
   "metadata": {},
   "outputs": [],
   "source": [
    "# Display descriptive statistics of data\n",
    "course_totals_df.describe()"
   ]
  },
  {
   "cell_type": "markdown",
   "id": "2233ccf9",
   "metadata": {},
   "source": [
    "### Visualise\n",
    "\n",
    "At this point, it could be helpful to visualise what we found. Visualisation not only allows us to make visible our analysis to others, it can also help expose further lines of investigation.\n",
    "As we will usually want to be able to control the quality of the visualisation, a dedicated library like `plotly.express` is helpful."
   ]
  },
  {
   "cell_type": "code",
   "execution_count": null,
   "id": "c07c1aa1-3222-4884-a612-05b13cfac6eb",
   "metadata": {},
   "outputs": [],
   "source": [
    "# import the visualisation library\n",
    "import ??? as px"
   ]
  },
  {
   "cell_type": "code",
   "execution_count": null,
   "id": "4f590c4b-ef35-44bc-83f7-b7815df3ad55",
   "metadata": {},
   "outputs": [],
   "source": [
    "# Create a visualisation with plotly.express\n",
    "fig = px.bar(course_totals_df,x=???,y=???,width=???,height=???)\n",
    "fig.show()"
   ]
  },
  {
   "cell_type": "markdown",
   "id": "9671aed9-8011-4f56-9431-ce1de79f67ae",
   "metadata": {},
   "source": [
    "When visualising data, we should consider making our visualisations easy for stakeholders to interpret. One simple way of improving this is to order our data in a logical way."
   ]
  },
  {
   "cell_type": "code",
   "execution_count": null,
   "id": "053157ee-8f74-415c-8335-0c56e40d148c",
   "metadata": {},
   "outputs": [],
   "source": [
    "sorted_df = course_totals_df.sort_values(by=???,ascending=False)\n",
    "sorted_df"
   ]
  },
  {
   "cell_type": "code",
   "execution_count": null,
   "id": "bf367892-e553-4471-98d3-65a470a50d6e",
   "metadata": {},
   "outputs": [],
   "source": [
    "fig = px.bar(???,x=???,y=???,width=600,height=600)\n",
    "fig.show()"
   ]
  },
  {
   "cell_type": "markdown",
   "id": "1635f77e-4035-4ac4-9c6c-f52064f262e3",
   "metadata": {},
   "source": [
    "### Analysis (part 2)\n",
    "\n",
    "It is common to return back to analysis after gaining some insights from initial visualisation. We often need to explore the data further"
   ]
  },
  {
   "cell_type": "markdown",
   "id": "e7303b82-ddee-4a14-8834-f091d5f0e1e9",
   "metadata": {},
   "source": [
    "#### Explore sub-categories\n",
    "We can also get counts for subgroups, by passing a list to the groupby..."
   ]
  },
  {
   "cell_type": "code",
   "execution_count": null,
   "id": "92679e59",
   "metadata": {},
   "outputs": [],
   "source": [
    "# Explore the various combinations by changing the column names in the list\n",
    "class_df.groupby(['course',???]).size()"
   ]
  },
  {
   "cell_type": "markdown",
   "id": "1f0ee8a7-1342-4ff4-92f4-c9e9dc95f638",
   "metadata": {},
   "source": [
    "We can create new dataframes based on our manipulation of the existing dataframe"
   ]
  },
  {
   "cell_type": "code",
   "execution_count": null,
   "id": "55c8d393-39ec-415a-9e59-3fc240692401",
   "metadata": {},
   "outputs": [],
   "source": [
    "# Create a new dataframe with a column for the number of students in the course_mode combination\n",
    "course_mode_df = class_df.groupby(['course','mode']).size().reset_index(name=\"course_mode\")\n",
    "course_mode_df"
   ]
  },
  {
   "cell_type": "markdown",
   "id": "29aefd31-fb35-4502-bbbe-357c9ea63eeb",
   "metadata": {},
   "source": [
    "### Visualise (part 2)"
   ]
  },
  {
   "cell_type": "markdown",
   "id": "732739ea",
   "metadata": {},
   "source": [
    "This new finer grained analysis lends itself to a different kind of visualisation."
   ]
  },
  {
   "cell_type": "code",
   "execution_count": null,
   "id": "c9710f1a-f269-459a-8966-c847864ddded",
   "metadata": {},
   "outputs": [],
   "source": [
    "# Visualise course - mode data\n",
    "fig2 = px.bar(???,x=???,y=???,color=???,width=600,height=600)\n",
    "fig2.update_xaxes(categoryorder='total ascending')\n",
    "fig2.show()"
   ]
  },
  {
   "cell_type": "markdown",
   "id": "d2ed3d5b",
   "metadata": {},
   "source": [
    "What if we were to change how the data is visualised?"
   ]
  },
  {
   "cell_type": "code",
   "execution_count": null,
   "id": "a241509d-47d5-4e4b-a798-ba13eb61de15",
   "metadata": {},
   "outputs": [],
   "source": [
    "# Visualise mode - course data\n",
    "fig3 = px.bar(???,x=???,y='course_mode',color=???,width=600,height=600)\n",
    "fig3.show()"
   ]
  },
  {
   "cell_type": "markdown",
   "id": "3d08b14d",
   "metadata": {},
   "source": [
    "### Insights\n",
    "\n",
    "To derive insights, we need to think about the analysis and visualisation and relate them to the original question:\n",
    "\n",
    "> **QUESTION** What different groups of students are studying IFN619, and how might information about the cohort help the teaching team provide meaningful learning experiences?\n",
    "\n",
    "- What does our analysis and visualisation tell/show us that is relevant to the initial question?\n",
    "- Which of the results are the most insightful and why?\n",
    "- Do we need to do further analysis? Why?\n",
    "- What further analysis is possible? Should it be considered? Why?\n",
    "- What are the limitations of the data analytics that we've done. Can we overcome those limitations?\n"
   ]
  },
  {
   "cell_type": "markdown",
   "id": "0bfa25b5",
   "metadata": {},
   "source": [
    "Considering these questions carefully can sometimes result in...\n",
    "- re-thinking the original question\n",
    "- looking for additional data to supplement the original data\n",
    "- undertaking more cleaning of the original data\n",
    "- pursuing further analysis or visualisation\n",
    "- (occasionally) abandoning the approach and adopting a new approach"
   ]
  },
  {
   "cell_type": "markdown",
   "id": "38e45fb7",
   "metadata": {},
   "source": [
    "---\n",
    "\n",
    "## Next steps...\n",
    "\n",
    "1. Experiment with the data and the code above to try different approaches to the analysis\n",
    "2. Attend the tutorial, and try the data analytics cycle with a different problem\n",
    "3. Try out some of the exercises during the week"
   ]
  }
 ],
 "metadata": {
  "creation_period": "",
  "kernelspec": {
   "display_name": "Python 3 (ipykernel)",
   "language": "python",
   "name": "python3"
  },
  "language_info": {
   "codemirror_mode": {
    "name": "ipython",
    "version": 3
   },
   "file_extension": ".py",
   "mimetype": "text/x-python",
   "name": "python",
   "nbconvert_exporter": "python",
   "pygments_lexer": "ipython3",
   "version": "3.10.13"
  },
  "nb_name": "template",
  "qut": {
   "creation_period": "2023_sem1",
   "nb_name": "A2-DataAnalyticsCycle",
   "unit_code": "IFN619"
  },
  "unit_code": "",
  "vscode": {
   "interpreter": {
    "hash": "d4d1e4263499bec80672ea0156c357c1ee493ec2b1c70f0acce89fc37c4a6abe"
   }
  }
 },
 "nbformat": 4,
 "nbformat_minor": 5
}
