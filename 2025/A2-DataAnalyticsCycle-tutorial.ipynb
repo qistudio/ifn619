{
 "cells": [
  {
   "cell_type": "markdown",
   "id": "5b918dae-cf79-4472-8a23-383ca9a71a13",
   "metadata": {
    "cell_name": "header_cell"
   },
   "source": [
    "<div style=\"background:#E9FFF6; color:#440404; padding:8px; border-radius: 4px; text-align: center; font-weight: 500;\">IFN619 - Data Analytics for Strategic Decision Makers</div>"
   ]
  },
  {
   "attachments": {},
   "cell_type": "markdown",
   "id": "0888e26c-e3cd-446a-be05-1d5924897e2a",
   "metadata": {
    "cell_name": "title_cell"
   },
   "source": [
    "# IFN619 :: A2-DataAnalyticsCycle - tutorial exercises"
   ]
  },
  {
   "attachments": {},
   "cell_type": "markdown",
   "id": "c4d21841",
   "metadata": {},
   "source": [
    "## QUESTION"
   ]
  },
  {
   "attachments": {},
   "cell_type": "markdown",
   "id": "ff7c22a4-d8e9-4247-b870-425f856790f0",
   "metadata": {},
   "source": [
    "**Concern:** A key concern of many Queensland organisations and businesses is the impact of climate change on the coral and other marine life at the Great Barrier Reef. \n",
    "One indication of climate change is the rise in sea level. The [State of the Environment](https://www.stateoftheenvironment.des.qld.gov.au/climate/coasts-oceans/sea-level) report provides information on this indicator.\n",
    "\n",
    "> **Question:** To what extent have changes in sea level been observed in the area of the Great Barrier Reef?\n",
    "\n",
    "In this exercise, you will investigate history data on sea levels in two sites within the Great Barrier Reef. "
   ]
  },
  {
   "attachments": {},
   "cell_type": "markdown",
   "id": "e26ebad8",
   "metadata": {},
   "source": [
    "## DATA\n",
    "\n",
    "Historic sea level data from within the Great Barrier Reef is available from [Queensland Government Open Data Portal](https://www.data.qld.gov.au/dataset/soe2020-sea-level/resource/2020-indicator-4-2-0-4)\n",
    "1. Download the data as a CSV file, and save as `indicator-4-2-0-4.csv` in your `data` folder\n",
    "2. Look at the contents of the file to understand the data. Note: the data instructions on the webpage provide some useful description of the data. \n",
    "3. Import the data as a `pandas` dataframe."
   ]
  },
  {
   "cell_type": "code",
   "execution_count": null,
   "id": "16b060cf",
   "metadata": {},
   "outputs": [],
   "source": [
    "# Import libraries\n",
    "import pandas as ???\n",
    "import ??? as px"
   ]
  },
  {
   "cell_type": "code",
   "execution_count": null,
   "id": "3209ce4c",
   "metadata": {},
   "outputs": [],
   "source": [
    "# Read a CSV into a dataframe\n",
    "file_path = \"???/\"\n",
    "file_name = \"???\"\n",
    "df = pd.read_csv(f\"{???}{???}\")\n",
    "df"
   ]
  },
  {
   "attachments": {},
   "cell_type": "markdown",
   "id": "02716356",
   "metadata": {},
   "source": [
    "## ANALYSIS"
   ]
  },
  {
   "attachments": {},
   "cell_type": "markdown",
   "id": "8b4f496b",
   "metadata": {},
   "source": [
    "If we were to view all data including months we would be able to see the seasonality (as mentioned in the report). However, as we are just interested in the overall trend, we can get the mean change for the year. We can do this with the `groupby()` and `mean()` functions.\n",
    "\n",
    "However, first we need to clean the data. Because 2020 is incomplete (doesn't have 12 months), it could skew any averages by reflecting only the seasonal variation for January and February. Therefore, we'll drop 2020 from the data BEFORE calculating the means. We can do this by *filtering* the dataframe to only include years before 2020."
   ]
  },
  {
   "cell_type": "code",
   "execution_count": null,
   "id": "f7a84cb6",
   "metadata": {},
   "outputs": [],
   "source": [
    "# Remove incomplete 2020 data by selecting only years before 2020\n",
    "clean_df = df[df[???]<???]\n",
    "clean_df"
   ]
  },
  {
   "cell_type": "code",
   "execution_count": null,
   "id": "c7e5dc63",
   "metadata": {},
   "outputs": [],
   "source": [
    "# Calculate the means for the year with groupby() and mean()\n",
    "mean_cols = [???,???, ???]\n",
    "mean_df = clean_df.groupby(???)[mean_cols].mean()\n",
    "mean_df"
   ]
  },
  {
   "attachments": {},
   "cell_type": "markdown",
   "id": "40e6e9bd",
   "metadata": {},
   "source": [
    "## VISUALISATION"
   ]
  },
  {
   "cell_type": "code",
   "execution_count": null,
   "id": "2f37fdd2",
   "metadata": {},
   "outputs": [],
   "source": [
    "# Visualise the data as a line plot\n",
    "fig = px.???(???, width=800, height=600)\n",
    "fig.show()"
   ]
  },
  {
   "attachments": {},
   "cell_type": "markdown",
   "id": "b478df27",
   "metadata": {},
   "source": [
    "## INSIGHTS\n",
    "\n",
    "- What patterns did you find? \n",
    "- What is the recommendation for the concern?\n",
    "- What other information would be helpful?\n",
    "- What doesn't the data tell us?\n",
    "- Can we make inferences?"
   ]
  },
  {
   "attachments": {},
   "cell_type": "markdown",
   "id": "fb43fc1d",
   "metadata": {},
   "source": [
    "???"
   ]
  },
  {
   "attachments": {},
   "cell_type": "markdown",
   "id": "9a5ff5c7",
   "metadata": {},
   "source": [
    "---\n",
    "# Additional Exercises\n",
    "---\n",
    "\n",
    "## Research Data Example - Questions & Data\n",
    "\n",
    "The data from this exercise are from this [published research article](https://www.nature.com/articles/s41598-020-59810-w). Research questions based on these data might be useful for clinicians who need to diagnose and treat people with Parkinson's diesase. \n",
    "\n",
    "> Roeder, L., Boonstra, T.W. & Kerr, G.K. Corticomuscular control of walking in older people and people with Parkinson’s disease. Sci Rep 10, 2980 (2020).\n",
    "\n",
    "1. Download the gait parameters data from [FigShare](https://figshare.com/articles/dataset/Outcome_measures_analyses_scripts_for_Corticomuscular_control_of_walking_in_older_people_and_people_with_Parkinson_s_disease_/7991276). \n",
    "2. Upload the CSV to your 'data' directory.\n",
    "3. Load the data from the CSV into a dataframe\n",
    "4. Identify questions that you might be able to answer from the data    \n",
    "    \n",
    "TIP: You may have to read parts of the article cited above. First, describe the \"Group\" and \"condition\" columns, then look at some of the other columns and come up with questions of interest.\n",
    "    "
   ]
  },
  {
   "cell_type": "code",
   "execution_count": null,
   "id": "a9762220",
   "metadata": {},
   "outputs": [],
   "source": [
    "# Import the required libraries\n",
    "???"
   ]
  },
  {
   "cell_type": "code",
   "execution_count": null,
   "id": "d28da0e8",
   "metadata": {},
   "outputs": [],
   "source": [
    "# Read the CSV into a dataframe\n",
    "file_path = \"???/\"\n",
    "file_name = \"???\"\n",
    "df = pd.read_csv(f\"{file_path}{file_name}\")\n",
    "df"
   ]
  },
  {
   "attachments": {},
   "cell_type": "markdown",
   "id": "26b7d7c8",
   "metadata": {},
   "source": [
    "#### Example research questions: \n",
    "\n",
    "- What is the mean walking speed of the Parkinson's group, the healthy older group and the healthy younger group? \n",
    "- What is the mean duration of the swing phase (in seconds) of the Parkinson's group, the healthy older group and the healthy younger group? \n",
    "- Do people with Parkinson's disease walk faster on the treadmill compared to natural overground walking? \n",
    "- Do people with Parkinson's disease walk slower than healthy older people? Do they walk slower than healthy young people?\n",
    "- Is the stride time variability different between healthy young, healty older and people with Parkinson's?\n",
    "\n",
    "\n",
    "\n"
   ]
  },
  {
   "attachments": {},
   "cell_type": "markdown",
   "id": "10d8bc9b",
   "metadata": {},
   "source": [
    "--- \n",
    "## Data Search Example\n",
    "\n",
    "1. Look around on the web for some publicly available data that you can download in .csv format (e.g. https://catalog.data.gov/dataset/?res_format=CSV)\n",
    "2. Once you have a file, write some code in a Jupyter notebook that will load the data into a pandas dataframe\n",
    "3. For a numerical column, see if you can calculate some basic statistics like mean, standard deviation..."
   ]
  },
  {
   "cell_type": "markdown",
   "id": "fe0c5d2c",
   "metadata": {},
   "source": []
  }
 ],
 "metadata": {
  "creation_period": "",
  "kernelspec": {
   "display_name": "Python 3 (ipykernel)",
   "language": "python",
   "name": "python3"
  },
  "language_info": {
   "codemirror_mode": {
    "name": "ipython",
    "version": 3
   },
   "file_extension": ".py",
   "mimetype": "text/x-python",
   "name": "python",
   "nbconvert_exporter": "python",
   "pygments_lexer": "ipython3",
   "version": "3.11.11"
  },
  "nb_name": "template",
  "qut": {
   "creation_period": "2023_sem1",
   "nb_name": "A2-DataAnalyticsCycle-tutorial",
   "unit_code": "IFN619"
  },
  "unit_code": "",
  "vscode": {
   "interpreter": {
    "hash": "d4d1e4263499bec80672ea0156c357c1ee493ec2b1c70f0acce89fc37c4a6abe"
   }
  }
 },
 "nbformat": 4,
 "nbformat_minor": 5
}
