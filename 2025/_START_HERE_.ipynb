{
 "cells": [
  {
   "attachments": {},
   "cell_type": "markdown",
   "metadata": {},
   "source": [
    "# Getting Started\n",
    "\n",
    "Welcome to the IFN619 JupyterLab. This service is running in QUT's datacentre. During the semester, the teaching team will update the notebooks and other resources on our GitHub repo.\n",
    "\n",
    "To *PULL* these resources into your personal Jupyter environment, click this link:\n",
    "\n",
    "### [Get files from GitHub](https://jupyter.eres.qut.edu.au/hub/user-redirect/git-pull?repo=https%3A%2F%2Fgithub.com%2Fqistudio%2Fifn619&urlpath=lab/workspaces/auto-J/tree/ifn619/2025&branch=release)\n",
    "\n",
    "Note that this will not overwrite your own files. If you need a clean copy at any point, copy your old files into another direction (like 'old-files'), and then click the link above to pull a fresh copy of the files."
   ]
  },
  {
   "cell_type": "markdown",
   "metadata": {},
   "source": [
    "## Acknowledgement of Traditional Owners\n",
    "<img src=\"graphics/Acknowledgement_of_Traditional_Owners_ON_CAMPUS_presentation_landscape.jpg\" width=\"70%\"/>"
   ]
  }
 ],
 "metadata": {
  "kernelspec": {
   "display_name": "Python 3 (ipykernel)",
   "language": "python",
   "name": "python3"
  },
  "language_info": {
   "codemirror_mode": {
    "name": "ipython",
    "version": 3
   },
   "file_extension": ".py",
   "mimetype": "text/x-python",
   "name": "python",
   "nbconvert_exporter": "python",
   "pygments_lexer": "ipython3",
   "version": "3.10.13"
  },
  "vscode": {
   "interpreter": {
    "hash": "31f2aee4e71d21fbe5cf8b01ff0e069b9275f58929596ceb00d14d90e3e16cd6"
   }
  }
 },
 "nbformat": 4,
 "nbformat_minor": 4
}
