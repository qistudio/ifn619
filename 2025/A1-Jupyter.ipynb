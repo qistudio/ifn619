{
 "cells": [
  {
   "cell_type": "markdown",
   "id": "7e17d2e0-08fd-4827-b35b-a9f797fe55a1",
   "metadata": {
    "cell_name": "header_cell"
   },
   "source": [
    "<div style=\"background:#EEEEdd; color:#552255; padding:8px; border-radius: 4px; text-align: center; font-weight: 500;\">IFN619 - Data Analytics for Strategic Decision Makers</div>"
   ]
  },
  {
   "cell_type": "markdown",
   "id": "833144a7-383f-4a82-a26c-0fa01e08fc3c",
   "metadata": {
    "cell_name": "title_cell"
   },
   "source": [
    "# IFN619 :: A1-Jupyter"
   ]
  },
  {
   "cell_type": "markdown",
   "id": "964bdc77",
   "metadata": {},
   "source": [
    "Almost all of the learning activities for this unit will involve Jupyter. It is critical that you familiarise yourself with Jupyter NOW, and dedicate time to exploring the main features.\n",
    "\n",
    "Try and find out about the following features and how to use them:\n",
    "- Help menu\n",
    "- Working with notebooks and other files\n",
    "- Creating folders and moving files\n",
    "- Creating, editing and running cells - difference between Markdown and Code cells\n",
    "- Variable display\n",
    "- Code completion\n",
    "- Clearing outputs and Resetting the Kernel\n",
    "- Saving and downloading notebooks\n",
    "- Downloading folder archive"
   ]
  },
  {
   "cell_type": "markdown",
   "id": "967356f5",
   "metadata": {},
   "source": [
    "### Getting started with Markdown cells\n",
    "\n",
    "Run each of the cells below to see how the markdown code is changed in formatted text."
   ]
  },
  {
   "cell_type": "markdown",
   "id": "c3290f38",
   "metadata": {},
   "source": [
    "# This is a really big title"
   ]
  },
  {
   "cell_type": "markdown",
   "id": "58bbb813",
   "metadata": {},
   "source": [
    "## This is a smaller title"
   ]
  },
  {
   "cell_type": "markdown",
   "id": "c3805f74",
   "metadata": {},
   "source": [
    "### A smaller title"
   ]
  },
  {
   "cell_type": "markdown",
   "id": "5fb386ea",
   "metadata": {},
   "source": [
    "Here is some normal text *with some words in italics* and **some words in bold** and still ***other words in bold italic***."
   ]
  },
  {
   "cell_type": "markdown",
   "id": "0985dcd0",
   "metadata": {},
   "source": [
    "You can use markdown for format code inline the text like the function `my_python_function()` which appears in the middle of normal text."
   ]
  },
  {
   "cell_type": "markdown",
   "id": "ffa301b1",
   "metadata": {},
   "source": [
    "You can also create code blocks:\n",
    "\n",
    "```python\n",
    "def my_python_function():\n",
    "  return \"doesn't do much\"\n",
    "```"
   ]
  },
  {
   "cell_type": "markdown",
   "id": "0e15346f",
   "metadata": {},
   "source": [
    "You may want to use ordered lists:\n",
    "\n",
    "1. First item\n",
    "2. Second item\n",
    "3. etc\n",
    "\n",
    "Or event unordered lists:\n",
    "\n",
    "- an item\n",
    "- another item\n",
    "- etc"
   ]
  },
  {
   "cell_type": "markdown",
   "id": "b1b97f87",
   "metadata": {},
   "source": [
    "Sometimes it might be helpful to highlight text with a block quote:\n",
    "\n",
    "> You can get help on MarkDown from within the JupyterLab `help` menu. Check out the `Markdown reference` page and also the [10 minute tutorial](https://commonmark.org/help/tutorial/)"
   ]
  },
  {
   "cell_type": "markdown",
   "id": "8eb46882",
   "metadata": {},
   "source": [
    "### Getting started with Code cells\n",
    "\n",
    "Code cells allow us to write Python code and when we run the cell, it will execute the code in the cell and output the results below the cell.\n",
    "\n",
    "When we are explaining our thinking behind the code, we use Markdown cells like this one. If we need to make a note of what a particular part of the code is doing, we can use comments in the code. \n",
    "Take a look at the code cell below, and run the cell to see what it does."
   ]
  },
  {
   "cell_type": "code",
   "execution_count": null,
   "id": "99f04494",
   "metadata": {},
   "outputs": [],
   "source": [
    "# This is a comment in the code\n",
    "\n",
    "my_variable = \"This is a string of characters - called a string. We are assigning this string data to the variable called  my_variable\"\n",
    "\n",
    "# You can display the contents of a variable by typing its name as the last command in a cell\n",
    "\n",
    "my_variable"
   ]
  },
  {
   "cell_type": "code",
   "execution_count": null,
   "id": "96458803",
   "metadata": {},
   "outputs": [],
   "source": [
    "# Once we've assigned data to a variable name, we can work with that data by using the variable\n",
    "\n",
    "my_variable.split(' ') # split the data into a list based on the space character"
   ]
  },
  {
   "cell_type": "markdown",
   "id": "1fc00a13",
   "metadata": {},
   "source": [
    "Alot of what we do in Data Analytics, is manipulating data by assigning it to variables and then calling functions on the variables or using the variables in operations.\n",
    "\n",
    "In the code above, `my_variable` is a `string` because we assigned a string of characters to it. Because it is a string, we were able to call a string function `split()` to manipulate the data in the variable resulting in a `list` of strings.\n",
    "\n",
    "In the code below, you will see that we can perform mathematical operations on variables too."
   ]
  },
  {
   "cell_type": "code",
   "execution_count": null,
   "id": "9f04c6fd",
   "metadata": {},
   "outputs": [],
   "source": [
    "this_year = 2025\n",
    "ten_years_time = this_year + 10\n",
    "\n",
    "#display the value of ten_years_time\n",
    "ten_years_time"
   ]
  },
  {
   "cell_type": "code",
   "execution_count": null,
   "id": "b50e0222",
   "metadata": {},
   "outputs": [],
   "source": [
    "# If we want to know what type a variable is, we can use the type function\n",
    "# running this code, we can see that ten_years_time is an integer\n",
    "\n",
    "type(ten_years_time)"
   ]
  },
  {
   "cell_type": "markdown",
   "id": "2b7badc8",
   "metadata": {},
   "source": [
    "### Your turn to experiment (Markdown cells)\n",
    "\n",
    "- Create a new Markdown cell\n",
    "- add a title with a line underneath it\n",
    "- add some text\n",
    "- include a link to Module A in Canvas\n",
    "- run the cell to render the text and check that the link takes to the right place\n",
    "- double click the cell to edit the contents\n",
    "- experiment with some of the other Markdown codes"
   ]
  },
  {
   "cell_type": "markdown",
   "id": "f5c97812",
   "metadata": {},
   "source": [
    "### Your turn to experiment (Code cells)\n",
    "\n",
    "- Create a new Code cell\n",
    "- Write the code to display the `type` for `my_variable`\n",
    "- Create another code cell and assign `my_variable.split(' ')` to a new variable\n",
    "- What type is the new variable that you created?\n",
    "- Try using the `print()` function to output variable data in a single cell\n",
    "\n",
    "For example...\n",
    "```python\n",
    "print(\"This is my_variable:\",my_variable)\n",
    "print(\"This is the type of my_variable:\",type(my_variable))\n",
    "```\n"
   ]
  }
 ],
 "metadata": {
  "creation_period": "2023_sem1",
  "kernelspec": {
   "display_name": "Python 3 (ipykernel)",
   "language": "python",
   "name": "python3"
  },
  "language_info": {
   "codemirror_mode": {
    "name": "ipython",
    "version": 3
   },
   "file_extension": ".py",
   "mimetype": "text/x-python",
   "name": "python",
   "nbconvert_exporter": "python",
   "pygments_lexer": "ipython3",
   "version": "3.9.16"
  },
  "nb_name": "C4-MachineLearning",
  "qut": {
   "creation_period": "2023_sem1",
   "nb_name": "A1-Jupyter",
   "unit_code": "IFN619"
  },
  "unit_code": "IFN619"
 },
 "nbformat": 4,
 "nbformat_minor": 5
}
