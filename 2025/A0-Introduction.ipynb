{
 "cells": [
  {
   "cell_type": "markdown",
   "id": "7e17d2e0-08fd-4827-b35b-a9f797fe55a1",
   "metadata": {
    "cell_name": "header_cell"
   },
   "source": [
    "<div style=\"background:#EEEEdd; color:#552255; padding:8px; border-radius: 4px; text-align: center; font-weight: 500;\">IFN619 - Data Analytics for Strategic Decision Makers</div>"
   ]
  },
  {
   "cell_type": "markdown",
   "id": "833144a7-383f-4a82-a26c-0fa01e08fc3c",
   "metadata": {
    "cell_name": "title_cell"
   },
   "source": [
    "# IFN619 :: A0-Introduction"
   ]
  },
  {
   "cell_type": "markdown",
   "id": "3c292efb",
   "metadata": {},
   "source": [
    "\n",
    "1. **Overview** - work through the [overview module](https://canvas.qut.edu.au/courses/21175/pages/uo1-welcome?module_item_id=1841311) on Canvas\n",
    "2. **Teaching team** - make sure you get to know the [teaching team](https://canvas.qut.edu.au/courses/21175/pages/uo2-contact-your-teaching-team?module_item_id=1841312) and who is taking your lecture and your tutorial. Take the time to introduce yourself, and reach out if you have any questions about getting started in the unit.\n",
    "3. **Assessment** - work through the [assessment module](https://canvas.qut.edu.au/courses/21175/pages/ua0-assessment-overview?module_item_id=1841322) on Canvas. \n",
    "4. **Unit Resources** - log in to Jupyter, make sure that you know how to *get files from GitHub* so that your environment always has the latest resources. Also, familiarise yourself with the [Exemplars](https://canvas.qut.edu.au/courses/21175/pages/ur1-technical-requirements?module_item_id=1841320) of code that used throughout the semester. If you're new to Python, or a bit rusty, read Chapters 1 & 2 first.\n"
   ]
  },
  {
   "cell_type": "markdown",
   "id": "c8dae532",
   "metadata": {},
   "source": [
    "## Next...\n",
    "\n",
    "5. **Jupyter** - get to know the [Jupyterlab Environment](https://jupyter.eres.qut.edu.au/hub/home) - See notebook [A1-Jupyter](A1-Jupyter.ipynb)\n",
    "6. **Data Analytics Cycle** - familiarise yourself with the data analytics cycle - See notebook [A2-Data AnalyticsCycle](A2-DataAnalyticsCycle.ipynb)"
   ]
  }
 ],
 "metadata": {
  "creation_period": "2023_sem1",
  "kernelspec": {
   "display_name": "Python 3 (ipykernel)",
   "language": "python",
   "name": "python3"
  },
  "language_info": {
   "codemirror_mode": {
    "name": "ipython",
    "version": 3
   },
   "file_extension": ".py",
   "mimetype": "text/x-python",
   "name": "python",
   "nbconvert_exporter": "python",
   "pygments_lexer": "ipython3",
   "version": "3.9.16"
  },
  "nb_name": "C4-MachineLearning",
  "qut": {
   "creation_period": "2023_sem1",
   "nb_name": "A1-Jupyter",
   "unit_code": "IFN619"
  },
  "unit_code": "IFN619"
 },
 "nbformat": 4,
 "nbformat_minor": 5
}
